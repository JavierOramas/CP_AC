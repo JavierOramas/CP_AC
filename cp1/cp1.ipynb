{
 "metadata": {
  "language_info": {
   "codemirror_mode": {
    "name": "ipython",
    "version": 3
   },
   "file_extension": ".py",
   "mimetype": "text/x-python",
   "name": "python",
   "nbconvert_exporter": "python",
   "pygments_lexer": "ipython3",
   "version": "3.7.4-final"
  },
  "orig_nbformat": 2,
  "kernelspec": {
   "name": "python3",
   "display_name": "Python 3"
  }
 },
 "nbformat": 4,
 "nbformat_minor": 2,
 "cells": [
  {
   "source": [
    "# II. Sistemas de Números\n",
    "Existen distintos métodos para los cambios de bases, el objetivo de esta clase práctica es que tú, estudiante, investigues sobre la conversión de bases y demuestres los resultados mediante la resolución de ejercicios.\n",
    "\n",
    "    1. Convierta los siguientes valores binarios a la base decimal:\n",
    "        a. 0000 0001\n",
    "        b. 0000 0010\n",
    "        c. 0000 1111\n",
    "        d. 0001 0000\n",
    "        e. 1101 0101\n",
    "        f. 1001 1001\n",
    "        g. 0111 1111"
   ],
   "cell_type": "markdown",
   "metadata": {}
  },
  {
   "cell_type": "code",
   "execution_count": 1,
   "metadata": {},
   "outputs": [],
   "source": [
    "numbers = [\n",
    "    '00000001',\n",
    "    '00000010',\n",
    "    '00001111',\n",
    "    '00010000',\n",
    "    '11010101',\n",
    "    '10011001',\n",
    "    '01111111'\n",
    "    ]\n"
   ]
  },
  {
   "cell_type": "code",
   "execution_count": 9,
   "metadata": {},
   "outputs": [],
   "source": [
    "def bin_to_dec(num):\n",
    "    sol = 0\n",
    "    for i,val in enumerate(num):\n",
    "        if val == '1':\n",
    "            sol += 2**(len(num)-i-1)\n",
    "    return sol\n"
   ]
  },
  {
   "cell_type": "code",
   "execution_count": 10,
   "metadata": {},
   "outputs": [
    {
     "output_type": "stream",
     "name": "stdout",
     "text": [
      "1\n2\n15\n16\n213\n153\n127\n"
     ]
    }
   ],
   "source": [
    "for i in numbers:\n",
    "    print(bin_to_dec(i))"
   ]
  },
  {
   "source": [
    "    2. Convierta los siguientes valores hexadecimales a la base decimal:\n",
    "    \n",
    "        a. 09          \n",
    "        b. 0A          \n",
    "        c. 0F                      \n",
    "        d. 10          \n",
    "        e. 1F          \n",
    "        f. FF           \n",
    "        g. F0F0         \n",
    "        h. BEBE        \n",
    "        i. CAFE       \n",
    "        j. FFFFFFFF    \n",
    "        k. BEBECAFE   "
   ],
   "cell_type": "markdown",
   "metadata": {}
  },
  {
   "cell_type": "code",
   "execution_count": 11,
   "metadata": {},
   "outputs": [],
   "source": [
    "def hex_to_dec(num):\n",
    "    return int(num,16)"
   ]
  },
  {
   "cell_type": "code",
   "execution_count": 16,
   "metadata": {},
   "outputs": [
    {
     "output_type": "stream",
     "name": "stdout",
     "text": [
      "9\n10\n15\n16\n31\n255\n61680\n48830\n51966\n4294967295\n3200174846\n"
     ]
    }
   ],
   "source": [
    "nums = [\n",
    "    '09',\n",
    "    '0A',\n",
    "    '0F',\n",
    "    '10',\n",
    "    '1F',\n",
    "    'FF',\n",
    "    'F0F0',\n",
    "    'BEBE',\n",
    "    'CAFE',\n",
    "    'FFFFFFFF',\n",
    "    'BEBECAFE'\n",
    "]\n",
    "\n",
    "for i in nums:\n",
    "    print(hex_to_dec(i))\n"
   ]
  },
  {
   "source": [
    "    3. Convierta los siguientes valores decimales a la base hexadecimal y a la binaria:\n",
    "        a. 1\n",
    "        b. 2\n",
    "        c. 3\n",
    "        d. 8\n",
    "        e. 15\n",
    "        f. 136\n",
    "        g. 255\n",
    "        h. 256\n",
    "        i. 247\n",
    "        j. 232\n",
    "        k. 127"
   ],
   "cell_type": "markdown",
   "metadata": {}
  },
  {
   "cell_type": "code",
   "execution_count": null,
   "metadata": {},
   "outputs": [],
   "source": [
    "nums = [\n",
    "    1,\n",
    "    2,\n",
    "    3,\n",
    "    8,\n",
    "    15,\n",
    "    136,\n",
    "    255,\n",
    "    256,\n",
    "    247,\n",
    "    232,\n",
    "    127,\n",
    "]"
   ]
  }
 ]
}